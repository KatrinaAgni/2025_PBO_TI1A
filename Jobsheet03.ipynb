{
  "nbformat": 4,
  "nbformat_minor": 0,
  "metadata": {
    "colab": {
      "provenance": [],
      "authorship_tag": "ABX9TyP6G5pS1d7JP2KyHmrVbhoW",
      "include_colab_link": true
    },
    "kernelspec": {
      "name": "python3",
      "display_name": "Python 3"
    },
    "language_info": {
      "name": "python"
    }
  },
  "cells": [
    {
      "cell_type": "markdown",
      "metadata": {
        "id": "view-in-github",
        "colab_type": "text"
      },
      "source": [
        "<a href=\"https://colab.research.google.com/github/KatrinaAgni/2025_PBO_TI1A/blob/main/Jobsheet03.ipynb\" target=\"_parent\"><img src=\"https://colab.research.google.com/assets/colab-badge.svg\" alt=\"Open In Colab\"/></a>"
      ]
    },
    {
      "cell_type": "markdown",
      "source": [
        "JOBSHEET 03: KONSTRUKTOR, DESTRUKTOR, DAN ENKAPSULASI"
      ],
      "metadata": {
        "id": "XzHkcA1V9Ofg"
      }
    },
    {
      "cell_type": "code",
      "execution_count": null,
      "metadata": {
        "colab": {
          "base_uri": "https://localhost:8080/"
        },
        "id": "eCI79itc8uFO",
        "outputId": "38d91533-865b-4c3a-8e4e-a9471221c285"
      },
      "outputs": [
        {
          "output_type": "stream",
          "name": "stdout",
          "text": [
            "500 telah ditambahkan ke akun Alice,\n",
            "Jumlah deposit harus lebih dari 0.\n",
            "300 telah ditarik dari akun Alice.\n",
            "Saldo tidak mencukupi.\n",
            "Saldo terakhir di akun Alice:1200\n"
          ]
        }
      ],
      "source": [
        "#Praktikum 01:Enkapsulasi pada kelas Bank Account\n",
        "class BankAccount:\n",
        "  def __init__(self, owner, balance):\n",
        "    #atribut dengan double underscore (__) dianggap \"private\"\n",
        "    self.__owner = owner\n",
        "    self.__balance = balance\n",
        "\n",
        "  def deposit(self, amount):\n",
        "    #method untuk menambahkan saldo\n",
        "    if amount > 0:\n",
        "      self.__balance += amount\n",
        "      print(f\"{amount} telah ditambahkan ke akun {self.__owner},\")\n",
        "    else:\n",
        "      print(\"Jumlah deposit harus lebih dari 0.\")\n",
        "\n",
        "  def withdraw(self, amount):\n",
        "    #method untuk menarik saldo\n",
        "    if amount <= self.__balance:\n",
        "      self.__balance -= amount\n",
        "      print(f\"{amount} telah ditarik dari akun {self.__owner}.\")\n",
        "    else:\n",
        "      print(\"Saldo tidak mencukupi.\")\n",
        "\n",
        "  def get_balance(self):\n",
        "    #method untuk mendapatkan informasi saldo terkini.\n",
        "    return self.__balance\n",
        "\n",
        "#contoh penggunaan\n",
        "if __name__ == \"__main__\":\n",
        "  #membuat objek BankAccount dengan owner=\"Alice\" dan balance awal 1000\n",
        "  alice_account = BankAccount(owner=\"Alice\", balance=1000)\n",
        "\n",
        "  #deposit uang\n",
        "  alice_account.deposit(500) #berhasil\n",
        "  alice_account.deposit(-100)#gagal (validasi)\n",
        "\n",
        "  #withdraw uang\n",
        "  alice_account.withdraw(300) #berhasil\n",
        "  alice_account.withdraw(2000)#gagal(saldo tdk cukup)\n",
        "\n",
        "  #mendapatkan saldo\n",
        "  current_balance = alice_account.get_balance()\n",
        "  print(f\"Saldo terakhir di akun {alice_account._BankAccount__owner}:{current_balance}\")\n",
        "  #mencoba mengakses atribut 'private' langsung (tidak direkomendasikan)\n",
        "  #alice_account.__balance -> akan error\n",
        "  #karena Python \"mangling \" nama atribu __balance menjadi _BankAccount__balance\n",
        "  #ini adalah salah satu mekanisme enkapsulasi sederhana pada Python"
      ]
    },
    {
      "cell_type": "code",
      "source": [
        "#Praktikum 02:Enkapsulasi pada kelas Employee\n",
        "class Employee:\n",
        "  def __init__(self, name, salary):\n",
        "    #atribut privat dengan double underscore\n",
        "    self.__name = name\n",
        "    self.__salary = salary\n",
        "\n",
        "  def update_salary(self, increase):\n",
        "    #method untuk menaikkan gaji dengan validasi\n",
        "    if increase > 0:\n",
        "      self.__salary += increase\n",
        "      print(f\"Gaji telah dinaikkan sebesar {increase}.\")\n",
        "    else:\n",
        "      print(\"Nilai kenaikkan harus lebih dari 0.\")\n",
        "\n",
        "  def set_salary(self, new_salary):\n",
        "    #method untuk mengubah gaji dengan validasi\n",
        "    if new_salary >= 0:\n",
        "      self.__salary = new_salary\n",
        "      print(f\"Gaji diatur ulang menjadi {new_salary}.\")\n",
        "    else:\n",
        "      print(\"Gaji tidak dapat bernilai negatif.\")\n",
        "\n",
        "  def get_salary(self):\n",
        "    #method untuk mendapatkan informasi gaji\n",
        "    return self.__salary\n",
        "\n",
        "  def get_employee_info(self):\n",
        "    #method untuk menampilkan informasi karyawan secara menyeluruh\n",
        "    return f\"Employee: {self.__name}, Gaji: {self.__salary}\"\n",
        "\n",
        "#contoh penggunaan\n",
        "if __name__ == \"__main__\":\n",
        "  #membuat objek dengan nama \"John Doe\" dan gaji awal 50000\n",
        "  employee1 = Employee(\"John Doe\", 50000)\n",
        "\n",
        "  #tampilkan informasi karyawan\n",
        "  print(employee1.get_employee_info())\n",
        "\n",
        "  #update gaji dengan menaikkan gaji sebesar 5000\n",
        "  employee1.update_salary(5000)\n",
        "  print(f\"Gaji setelah kenaikkan: {employee1.get_employee_info()}\")\n",
        "  employee1.set_salary(10000)\n",
        "  print(f\"Gaji setelah diubah: {employee1.get_employee_info()}\")\n",
        "\n",
        "  #mencoba mengakses atribut privat secara langsung (tidak direkomendasikan)\n",
        "  #contoh: print(employee1.__salary) -> ini menimbulkan error"
      ],
      "metadata": {
        "colab": {
          "base_uri": "https://localhost:8080/"
        },
        "id": "_7CVH3wEJktP",
        "outputId": "ff31e94d-fa97-4dc6-8a01-107eece1a7ee"
      },
      "execution_count": 12,
      "outputs": [
        {
          "output_type": "stream",
          "name": "stdout",
          "text": [
            "Employee: John Doe, Gaji: 50000\n",
            "Gaji telah dinaikkan sebesar 5000.\n",
            "Gaji setelah kenaikkan: Employee: John Doe, Gaji: 55000\n",
            "Gaji diatur ulang menjadi 10000.\n",
            "Gaji setelah diubah: Employee: John Doe, Gaji: 10000\n"
          ]
        }
      ]
    },
    {
      "cell_type": "code",
      "source": [
        "#Praktikum 03: Konstruktor dan destruktor sederhana\n",
        "class SimpleExample:\n",
        "  def __init__(self, name):\n",
        "    #konstruktor: dipanggil saat objek dibuat.\n",
        "    #Menyiapkan nilai 'name' dan mencetak pesan pembuatan objek\n",
        "    self.name = name\n",
        "    print (f\"Konstruktor: Objek '{self.name}' telah dibuat.\")\n",
        "\n",
        "  def __del__(self):\n",
        "    #destruktor: dipanggil saat objek dihapus\n",
        "    #mencetak pesan bahwa objek sedang dihapus\n",
        "    print(f\"Destruktor: Objek '{self.name}' sedang dihapus.\")\n",
        "\n",
        "def main():\n",
        "  print(\"Program dimulai.\\n\")\n",
        "\n",
        "  #membuat objek SimpleExample\n",
        "  obj = SimpleExample(\"Demo\")\n",
        "  print(\"Program sedang berjalan...\\n\")\n",
        "\n",
        "  #menghapus objek secara eksplisit\n",
        "  del obj\n",
        "  print(\"Program sedang berjalan...\\n\")\n",
        "\n",
        "  print(\"Program selesai.\")\n",
        "if __name__ == \"__main__\":\n",
        "  main()\n"
      ],
      "metadata": {
        "colab": {
          "base_uri": "https://localhost:8080/"
        },
        "id": "PEnpL7V6Jzit",
        "outputId": "6af8968c-96e6-4ef4-b0af-e4e501ff60cd"
      },
      "execution_count": 6,
      "outputs": [
        {
          "output_type": "stream",
          "name": "stdout",
          "text": [
            "Program dimulai.\n",
            "\n",
            "Konstruktor: Objek 'Demo' telah dibuat.\n",
            "Program sedang berjalan...\n",
            "\n",
            "Destruktor: Objek 'Demo' sedang dihapus.\n",
            "Program sedang berjalan...\n",
            "\n",
            "Program selesai.\n"
          ]
        }
      ]
    },
    {
      "cell_type": "code",
      "source": [
        "#Praktikum 04: Konstruktor dan Destruktor program FileLogger\n",
        "class FileLogger:\n",
        "  def __init__(self, filename):\n",
        "    #Konstruktor: membuka file log untuk menulis pesan\n",
        "    #Parameter: filename: nama file tempat pesan log akan ditulis\n",
        "    self.filename = filename\n",
        "    try:\n",
        "      self.file = open(filename, \"a\") #membuka file dalam mode append\n",
        "    except Exception as e:\n",
        "      print(f\"Gagal membukan file '{filename}': {e}\")\n",
        "\n",
        "  def write_log(self, message):\n",
        "    #menulis pesan log ke dalam file\n",
        "    #parameter: message: pesan yang akan ditulis ke file\n",
        "    self.file.write(message + \"\\n\")\n",
        "    self.file.flush() #memastikan pesan langsung ditulis ke disk\n",
        "    print(f\"Pesan log: '{message}' telah ditulis.\")\n",
        "\n",
        "  def __del__(self):\n",
        "    #destruktor: menutup file log ketika objek dihapus\n",
        "    if hasattr(self, \"file\") and not self.file.closed:\n",
        "            self.file.close()\n",
        "            print(f\"File '{self.filename}' telah ditutup.\")\n",
        "\n",
        "#contoh penggunaan dalam skenario nyata aplikasi\n",
        "if __name__ == \"__main__\":\n",
        "    #membuat objek logger untuk file \"application.log\"\n",
        "    logger = FileLogger(\"application.log\")\n",
        "\n",
        "    #menulis beberapa pesan log selama operasi aplikasi\n",
        "    logger.write_log(\"Aplikasi dimulai.\")\n",
        "    logger.write_log(\"Melakukan operasi A...\")\n",
        "    logger.write_log(\"Operasi A selesai.\")\n",
        "    logger.write_log(\"Aplikasi akan segera selesai.\")\n",
        "\n",
        "    #menghapus objek logger secara eksplisit\n",
        "    del logger\n",
        "    #jika objek tidak dihapus secara eksplisit, destruktor akan diapnggil\n",
        "    #ketika program berakhir dan garbage collection membersihkan objek tersebut"
      ],
      "metadata": {
        "colab": {
          "base_uri": "https://localhost:8080/"
        },
        "id": "m-5jkpn0Yb1-",
        "outputId": "1496fefc-d6fc-4ce9-f0b0-89874c6cdcac"
      },
      "execution_count": null,
      "outputs": [
        {
          "output_type": "stream",
          "name": "stdout",
          "text": [
            "Pesan log: 'Aplikasi dimulai.' telah ditulis.\n",
            "Pesan log: 'Melakukan operasi A...' telah ditulis.\n",
            "Pesan log: 'Operasi A selesai.' telah ditulis.\n",
            "Pesan log: 'Aplikasi akan segera selesai.' telah ditulis.\n",
            "File 'application.log' telah ditutup.\n"
          ]
        }
      ]
    },
    {
      "cell_type": "code",
      "source": [
        "#Praktikum 05: Properti \"Self\" pada kelas\n",
        "class Calculator:\n",
        "  def __init__(self, initial_value=0):\n",
        "    \"\"\"Konstruktor kelas Calculator.\n",
        "    - self: mengacu pada instance yang dibuat.\n",
        "    - initial_value: Nilai awal dari kalkulator.\n",
        "    \"\"\"\n",
        "    self.value = initial_value\n",
        "    print(f\"Kalkulator diinisialisasi dengan nilai: {self.value}\")\n",
        "\n",
        "  def add(self, number):\n",
        "    \"\"\"Menambahkan 'number' ke nilai yang tersimpan di objek.\n",
        "    -self.value: menunjukkan nilai saat ini yang disimpan di objek tersebut\n",
        "    -number: nilai yang akan ditambahkan\n",
        "    \"\"\"\n",
        "    self.value += number\n",
        "    print(f\"Setelah penambahan {number}, nilai sekarang adalah: {self.value}\")\n",
        "\n",
        "  def substract(self, number):\n",
        "    \"\"\"Mengurangi 'number' dari nilai yang tersimpan.\n",
        "    -self.value: nilai saat ini dalam objek,\n",
        "    -number: nilai yang akan dikurangkan\n",
        "    \"\"\"\n",
        "    self.value -= number\n",
        "    print(f\"Setelah pengurangan {number}, nilai sekarang adalah:{self.value}\")\n",
        "\n",
        "  def reset(self):\n",
        "    \"\"\"Mengatur ulang nilai kalkulator ke 0.\"\"\"\n",
        "    self.value = 0\n",
        "    print(\"Nilai telah direset ke 0.\")\n",
        "\n",
        "  def show_value(self):\n",
        "    #menampilkan nilai saat ini dari kalkulator\n",
        "    print(f\"Nilai saat ini adalah: {self.value}\")\n",
        "\n",
        "#Contoh penggunaan untuk memahami persan 'self'\n",
        "def main():\n",
        "  #Membuat objek Calculator dengan nilai awal 10\n",
        "  calc1 = Calculator(initial_value=10)\n",
        "\n",
        "  #Menggunakan metode dari objek calcl\n",
        "  calc1.add(5)  #menambah 5 ke nilai calc1\n",
        "  calc1.substract(3)#mengurangi 3 dari nilai calc1\n",
        "  calc1.show_value()#menampilkan nilai calc1\n",
        "\n",
        "  #Membuat objek Calculator lainnya dengan nilai awal default(0)\n",
        "  calc2 = Calculator()\n",
        "  calc2.add(20)  #menambah 20 ke nilai calcl2\n",
        "  calc2.show_value() #menampilkan nilai calcl2\n",
        "\n",
        "  #peran 'self' memungkinkan setiap instance (calc1, calc2) memiliki atribut 'value' masing masing\n",
        "  #mengacu pada self yang berbeda (instance yang berbeda.)\n",
        "\n",
        "if __name__ == \"__main__\":\n",
        "  main()"
      ],
      "metadata": {
        "colab": {
          "base_uri": "https://localhost:8080/"
        },
        "id": "wk3fZJUnZC_0",
        "outputId": "c5c561de-6347-49cc-8cb1-afa9ca34c2cc"
      },
      "execution_count": null,
      "outputs": [
        {
          "output_type": "stream",
          "name": "stdout",
          "text": [
            "Kalkulator diinisialisasi dengan nilai: 10\n",
            "Setelah penambahan 5, nilai sekarang adalah: 15\n",
            "Setelah pengurangan 3, nilai sekarang adalah:12\n",
            "Nilai saat ini adalah: 12\n",
            "Kalkulator diinisialisasi dengan nilai: 0\n",
            "Setelah penambahan 20, nilai sekarang adalah: 20\n",
            "Nilai saat ini adalah: 20\n"
          ]
        }
      ]
    },
    {
      "cell_type": "code",
      "source": [
        "#Praktikum 06: Menggunakan getter, setter, dan dekorator @property untuk mengelola akses atribut\n",
        "class Person:\n",
        "  def __init__(self, name, age):\n",
        "    #Konstruktor untuk menginisialisasi objek Person dengan nama dan umur.\n",
        "    #atribut privat(dengan double underscore) menyimpan data internal\n",
        "    self.__name = name\n",
        "    self.__age = age\n",
        "\n",
        "  @property\n",
        "  def name(self):\n",
        "    #Getter untuk atribut name\n",
        "    #mengembalikan nilai dari __name\n",
        "    return self.__name\n",
        "\n",
        "  @name.setter\n",
        "  def name(self, value):\n",
        "    #Setter untuk atribut name\n",
        "    #memeriksa apakah nilai tidak kosong sebelum mengubah nilai __name\n",
        "    if not value:\n",
        "      print(\"Nama tidak boleh kosong.\")\n",
        "    else:\n",
        "      self.__name = value\n",
        "\n",
        "  @property\n",
        "  def age(self):\n",
        "    \"\"\"Getter untuk atribut age\n",
        "    Mengembalikan nilai dari __age\"\"\"\n",
        "    return self.__age\n",
        "\n",
        "  @age.setter\n",
        "  def age(self, value):\n",
        "    \"\"\"Setter untuk atribut age\n",
        "    Memeriksa apakah nilai umur tidak negatif sebelum mengubah nilai __age\"\"\"\n",
        "    if value < 0:\n",
        "      print(\"Umur tidak boleh negatif!\")\n",
        "    else:\n",
        "      self.__age = value\n",
        "\n",
        "  #Contoh penggunaan\n",
        "def main():\n",
        "    #membuat objek Person dengan nama \"Alice\" dan umur 30\n",
        "    person = Person(\"Alice\", 30)\n",
        "    print(f\"Nama: {person.name}, Umur: {person.age}\")\n",
        "\n",
        "    #mengubah nama dan umur melalui setter\n",
        "    person.name = \"Bob\"\n",
        "    person.age = 35\n",
        "    print(f\"Nama baru: {person.name}, Umur baru: {person.age}\")\n",
        "\n",
        "    #mencoba menetapkan nilai yang tidak valid untuk umur\n",
        "    person.age = -5 #memunculkan error karena validasi umur negatif\n",
        "\n",
        "if __name__ == \"__main__\":\n",
        "   main()"
      ],
      "metadata": {
        "id": "KhwG-wj8g681",
        "colab": {
          "base_uri": "https://localhost:8080/"
        },
        "outputId": "23ece798-eb99-4898-a0f9-701c66771d2d"
      },
      "execution_count": 4,
      "outputs": [
        {
          "output_type": "stream",
          "name": "stdout",
          "text": [
            "Nama: Alice, Umur: 30\n",
            "Nama baru: Bob, Umur baru: 35\n",
            "Umur tidak boleh negatif!\n"
          ]
        }
      ]
    },
    {
      "cell_type": "code",
      "source": [
        "#Penugasan\n",
        "class Student:\n",
        "  def __init__(self, name, score):\n",
        "    self.__name = name\n",
        "    self.__score = score\n",
        "\n",
        "  @property\n",
        "  def name(self):\n",
        "    return self.__name\n",
        "\n",
        "  @name.setter\n",
        "  def name(self, value):\n",
        "    if not value:\n",
        "      print(\"Nama tidak boleh kosong\")\n",
        "    else:\n",
        "      self.__name = value\n",
        "\n",
        "  @property\n",
        "  def score(self):\n",
        "    return self.__score\n",
        "\n",
        "  @score.setter\n",
        "  def score(self, nilai):\n",
        "    if nilai < 0 or nilai > 100:\n",
        "      print(\"Nilai harus berada diantara 0 hingga 100\")\n",
        "    else:\n",
        "      self.__score = nilai\n",
        "\n",
        "  def grade(self):\n",
        "    if self.__score >= 90:\n",
        "      self.__grade = \"A\"\n",
        "      return self.__grade\n",
        "    elif self.__score >= 80 and self.__score < 90:\n",
        "      self.__grade = \"B\"\n",
        "      return self.__grade\n",
        "    elif self.__score >= 70 and self.__score < 80:\n",
        "      self.__grade = \"C\"\n",
        "      return self.__grade\n",
        "    elif self.__score >= 60 and self.__score < 70:\n",
        "      self.__grade = \"D\"\n",
        "      return self.__grade\n",
        "    else:\n",
        "      self.__grade = \"E\"\n",
        "      return self.__grade\n",
        "\n",
        "  def show_info(self, name, score, grade):\n",
        "    print(f\"\"\"\n",
        "    Nama Mahasiswa: {name}\n",
        "    Nilai: {score}\n",
        "    Grade: {grade}\"\"\")\n",
        "\n",
        "  def update_info(self, name, score, grade):\n",
        "    print(f\"\"\"\n",
        "    Nilai diubah...\n",
        "    Nama Mahasiswa: {name}\n",
        "    Nilai: {score}\n",
        "    Grade: {grade} \\n\"\"\")\n",
        "\n",
        "  def __del__(self):\n",
        "    print(f\"Data mahasiswa {self.name} telah dihapus dari sistem.\")\n",
        "\n",
        "def main():\n",
        "  student = Student(\"Siti\", 87)\n",
        "  grade = student.grade()\n",
        "  student.show_info(student.name, student.score, grade)\n",
        "\n",
        "  student.name = \"Katrina\"\n",
        "  student.score = 75\n",
        "  grade = student.grade()\n",
        "  student.update_info(student.name, student.score, grade)\n",
        "\n",
        "  del student\n",
        "\n",
        "if __name__ == \"__main__\":\n",
        "  main()"
      ],
      "metadata": {
        "colab": {
          "base_uri": "https://localhost:8080/"
        },
        "id": "a_EJvlK6orao",
        "outputId": "7ad8ded9-b47c-4108-8ba0-71e5dee8efcb"
      },
      "execution_count": 13,
      "outputs": [
        {
          "output_type": "stream",
          "name": "stdout",
          "text": [
            "\n",
            "    Nama Mahasiswa: Siti\n",
            "    Nilai: 87\n",
            "    Grade: B\n",
            "\n",
            "    Nilai diubah...\n",
            "    Nama Mahasiswa: Katrina\n",
            "    Nilai: 75\n",
            "    Grade: C \n",
            "\n",
            "Data mahasiswa Katrina telah dihapus dari sistem.\n"
          ]
        }
      ]
    },
    {
      "cell_type": "code",
      "source": [],
      "metadata": {
        "id": "Bdt7De_DQM8X"
      },
      "execution_count": null,
      "outputs": []
    }
  ]
}